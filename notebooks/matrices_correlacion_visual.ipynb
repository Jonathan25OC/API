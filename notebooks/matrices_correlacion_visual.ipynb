{
 "cells": [
  {
   "cell_type": "markdown",
   "id": "5feab4e9",
   "metadata": {},
   "source": [
    "\n",
    "![Matriz de Correlación 1](matriz_correlacion_1.png)\n",
    "\n",
    "**Resultados:**  \n",
    "```\n",
    "[[78 21]\n",
    " [18 37]]\n",
    "              precision    recall  f1-score   support\n",
    "\n",
    "           0       0.81      0.79      0.80        99\n",
    "           1       0.64      0.67      0.65        55\n",
    "\n",
    "    accuracy                           0.75       154\n",
    "   macro avg       0.73      0.73      0.73       154\n",
    "weighted avg       0.75      0.75      0.75       154\n",
    "```\n"
   ]
  },
  {
   "cell_type": "markdown",
   "id": "b4e18a0f",
   "metadata": {},
   "source": [
    "![Matriz de Correlación 2](matriz_correlacion_2.png)"
   ]
  }
 ],
 "metadata": {},
 "nbformat": 4,
 "nbformat_minor": 5
}
