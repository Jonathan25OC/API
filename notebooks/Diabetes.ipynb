{
 "cells": [
  {
   "cell_type": "markdown",
   "id": "480897bd",
   "metadata": {},
   "source": [
    "\n",
    "![Matriz de Correlación 1](matriz_correlacion_1.png)\n",
    "\n",
    "```\n",
    "[[78 21]\n",
    " [18 37]]\n",
    "              precision    recall  f1-score   support\n",
    "\n",
    "           0       0.81      0.79      0.80        99\n",
    "           1       0.64      0.67      0.65        55\n",
    "\n",
    "    accuracy                           0.75       154\n",
    "   macro avg       0.73      0.73      0.73       154\n",
    "weighted avg       0.75      0.75      0.75       154\n",
    "```\n"
   ]
  },
  {
   "cell_type": "markdown",
   "id": "ff82c4fa",
   "metadata": {},
   "source": [
    "![Matriz de Correlación 2](matriz_correlacion_2.png)"
   ]
  }
 ],
 "metadata": {},
 "nbformat": 4,
 "nbformat_minor": 5
}
